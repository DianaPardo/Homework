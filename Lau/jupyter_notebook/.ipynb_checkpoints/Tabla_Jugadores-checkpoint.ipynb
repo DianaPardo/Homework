{
 "cells": [
  {
   "cell_type": "code",
   "execution_count": 7,
   "metadata": {},
   "outputs": [],
   "source": [
    "import pandas as pd\n",
    "from sqlalchemy import create_engine\n",
    "from sqlalchemy.ext.declarative import declarative_base\n",
    "from sqlalchemy.orm import Session\n",
    "# Allow us to declare column types\n",
    "from sqlalchemy import Column, Integer, String, Float, Text "
   ]
  },
  {
   "cell_type": "markdown",
   "metadata": {},
   "source": [
    "### Extract CSVs into DataFrames"
   ]
  },
  {
   "cell_type": "code",
   "execution_count": 8,
   "metadata": {},
   "outputs": [],
   "source": [
    "datosFifa_file = \"../Resources/jugadores.csv\"\n",
    "datosFifa_data_df = pd.read_csv(datosFifa_file, encoding='UTF-8')"
   ]
  },
  {
   "cell_type": "markdown",
   "metadata": {},
   "source": [
    "### Transform DataFrames"
   ]
  },
  {
   "cell_type": "code",
   "execution_count": 3,
   "metadata": {},
   "outputs": [
    {
     "name": "stdout",
     "output_type": "stream",
     "text": [
      "<class 'pandas.core.frame.DataFrame'>\n",
      "RangeIndex: 16643 entries, 0 to 16642\n",
      "Data columns (total 13 columns):\n",
      "ID                16643 non-null int64\n",
      "Name              16643 non-null object\n",
      "Age               16643 non-null int64\n",
      "Nationality       16643 non-null object\n",
      "Overall           16643 non-null int64\n",
      "Potential         16643 non-null int64\n",
      "Club              16643 non-null object\n",
      "Value             16643 non-null object\n",
      "Wage              16643 non-null object\n",
      "Release_Clause    16643 non-null object\n",
      "Photo             16643 non-null object\n",
      "Club_Logo         16643 non-null object\n",
      "Aggression        16643 non-null int64\n",
      "dtypes: int64(5), object(8)\n",
      "memory usage: 1.7+ MB\n"
     ]
    }
   ],
   "source": [
    "datosFifa_data_df.info()"
   ]
  },
  {
   "cell_type": "code",
   "execution_count": 6,
   "metadata": {},
   "outputs": [
    {
     "ename": "AttributeError",
     "evalue": "'Series' object has no attribute 'to_list'",
     "output_type": "error",
     "traceback": [
      "\u001b[0;31m---------------------------------------------------------------------------\u001b[0m",
      "\u001b[0;31mAttributeError\u001b[0m                            Traceback (most recent call last)",
      "\u001b[0;32m<ipython-input-6-61104480e9ca>\u001b[0m in \u001b[0;36m<module>\u001b[0;34m\u001b[0m\n\u001b[1;32m      2\u001b[0m                                               \u001b[0;34m'Club'\u001b[0m\u001b[0;34m,\u001b[0m\u001b[0;34m'Value'\u001b[0m\u001b[0;34m,\u001b[0m\u001b[0;34m'Wage'\u001b[0m\u001b[0;34m,\u001b[0m\u001b[0;34m'Release_Clause'\u001b[0m\u001b[0;34m,\u001b[0m\u001b[0;34m\u001b[0m\u001b[0;34m\u001b[0m\u001b[0m\n\u001b[1;32m      3\u001b[0m                                              'Photo', 'Club_Logo', 'Aggression']].copy()\n\u001b[0;32m----> 4\u001b[0;31m \u001b[0mpv\u001b[0m\u001b[0;34m=\u001b[0m\u001b[0mdatosFifa_transformed_df\u001b[0m\u001b[0;34m[\u001b[0m\u001b[0;34m'Value'\u001b[0m\u001b[0;34m]\u001b[0m\u001b[0;34m.\u001b[0m\u001b[0mto_list\u001b[0m\u001b[0;34m(\u001b[0m\u001b[0;34m)\u001b[0m\u001b[0;34m\u001b[0m\u001b[0;34m\u001b[0m\u001b[0m\n\u001b[0m\u001b[1;32m      5\u001b[0m \u001b[0mw\u001b[0m\u001b[0;34m=\u001b[0m\u001b[0mdatosFifa_transformed_df\u001b[0m\u001b[0;34m[\u001b[0m\u001b[0;34m'Wage'\u001b[0m\u001b[0;34m]\u001b[0m\u001b[0;34m.\u001b[0m\u001b[0mto_list\u001b[0m\u001b[0;34m(\u001b[0m\u001b[0;34m)\u001b[0m\u001b[0;34m\u001b[0m\u001b[0;34m\u001b[0m\u001b[0m\n\u001b[1;32m      6\u001b[0m \u001b[0mrc\u001b[0m\u001b[0;34m=\u001b[0m\u001b[0mdatosFifa_transformed_df\u001b[0m\u001b[0;34m[\u001b[0m\u001b[0;34m'Release_Clause'\u001b[0m\u001b[0;34m]\u001b[0m\u001b[0;34m.\u001b[0m\u001b[0mtolist\u001b[0m\u001b[0;34m(\u001b[0m\u001b[0;34m)\u001b[0m\u001b[0;34m\u001b[0m\u001b[0;34m\u001b[0m\u001b[0m\n",
      "\u001b[0;32m~/anaconda3/lib/python3.7/site-packages/pandas/core/generic.py\u001b[0m in \u001b[0;36m__getattr__\u001b[0;34m(self, name)\u001b[0m\n\u001b[1;32m   4374\u001b[0m             \u001b[0;32mif\u001b[0m \u001b[0mself\u001b[0m\u001b[0;34m.\u001b[0m\u001b[0m_info_axis\u001b[0m\u001b[0;34m.\u001b[0m\u001b[0m_can_hold_identifiers_and_holds_name\u001b[0m\u001b[0;34m(\u001b[0m\u001b[0mname\u001b[0m\u001b[0;34m)\u001b[0m\u001b[0;34m:\u001b[0m\u001b[0;34m\u001b[0m\u001b[0;34m\u001b[0m\u001b[0m\n\u001b[1;32m   4375\u001b[0m                 \u001b[0;32mreturn\u001b[0m \u001b[0mself\u001b[0m\u001b[0;34m[\u001b[0m\u001b[0mname\u001b[0m\u001b[0;34m]\u001b[0m\u001b[0;34m\u001b[0m\u001b[0;34m\u001b[0m\u001b[0m\n\u001b[0;32m-> 4376\u001b[0;31m             \u001b[0;32mreturn\u001b[0m \u001b[0mobject\u001b[0m\u001b[0;34m.\u001b[0m\u001b[0m__getattribute__\u001b[0m\u001b[0;34m(\u001b[0m\u001b[0mself\u001b[0m\u001b[0;34m,\u001b[0m \u001b[0mname\u001b[0m\u001b[0;34m)\u001b[0m\u001b[0;34m\u001b[0m\u001b[0;34m\u001b[0m\u001b[0m\n\u001b[0m\u001b[1;32m   4377\u001b[0m \u001b[0;34m\u001b[0m\u001b[0m\n\u001b[1;32m   4378\u001b[0m     \u001b[0;32mdef\u001b[0m \u001b[0m__setattr__\u001b[0m\u001b[0;34m(\u001b[0m\u001b[0mself\u001b[0m\u001b[0;34m,\u001b[0m \u001b[0mname\u001b[0m\u001b[0;34m,\u001b[0m \u001b[0mvalue\u001b[0m\u001b[0;34m)\u001b[0m\u001b[0;34m:\u001b[0m\u001b[0;34m\u001b[0m\u001b[0;34m\u001b[0m\u001b[0m\n",
      "\u001b[0;31mAttributeError\u001b[0m: 'Series' object has no attribute 'to_list'"
     ]
    }
   ],
   "source": [
    "datosFifa_transformed_df = datosFifa_data_df[['ID','Name','Age','Nationality','Overall',\n",
    "                                              'Club','Value','Wage','Release_Clause',\n",
    "                                             'Photo', 'Club_Logo', 'Aggression']].copy()\n",
    "pv=datosFifa_transformed_df['Value'].to_list()\n",
    "w=datosFifa_transformed_df['Wage'].to_list()\n",
    "rc=datosFifa_transformed_df['Release_Clause'].to_list()\n",
    "pv1=[]\n",
    "for x in pv:\n",
    "    try:\n",
    "        l = len(x) - 1\n",
    "        euro = x[-l:]\n",
    "        if euro[-1:] == \"M\":\n",
    "            l = len(euro) - 1\n",
    "            s = euro[:l]\n",
    "            number = float(s) * 1000000\n",
    "        else:\n",
    "            l = len(euro) - 1\n",
    "            s = euro[:l]\n",
    "            number = float(s) * 1000\n",
    "        pv1.append(number)\n",
    "    except:\n",
    "        pv1.append(0)\n",
    "\n",
    "w1=[]\n",
    "for x in w:\n",
    "    try:\n",
    "        l = len(x) - 1\n",
    "        euro = x[-l:]\n",
    "        if euro[-1:] == \"M\":\n",
    "            l = len(euro) - 1\n",
    "            s = euro[:l]\n",
    "            number = float(s) * 1000000\n",
    "        else:\n",
    "            l = len(euro) - 1\n",
    "            s = euro[:l]\n",
    "            number = float(s) * 1000\n",
    "        w1.append(number)\n",
    "    except:\n",
    "        w1.append(0)\n",
    "    \n",
    "rc1=[]\n",
    "for x in rc:\n",
    "    try:\n",
    "        l = len(x) - 1\n",
    "        euro = x[-l:]\n",
    "        if euro[-1:] == \"M\":\n",
    "            l = len(euro) - 1\n",
    "            s = euro[:l]\n",
    "            number = float(s) * 1000000\n",
    "        else:\n",
    "            l = len(euro) - 1\n",
    "            s = euro[:l]\n",
    "            number = float(s) * 1000\n",
    "        rc1.append(number)\n",
    "    except:\n",
    "        rc1.append(0)\n",
    "        \n",
    "change = {'pv':pv1,'w':w1,'rc':rc1}\n",
    "clean_values = pd.DataFrame(change)\n",
    "datosFifa_transformed_df = pd.concat([datosFifa_transformed_df,clean_values], axis=1)\n",
    "datosFifa_transformed_df = datosFifa_transformed_df[['ID','Name','Age','Nationality','Overall',\n",
    "                                                     'Club','pv','w','rc',\n",
    "                                                     'Photo', 'Club_Logo', 'Aggression']]\n",
    "datosFifa_transformed_df = datosFifa_transformed_df.rename(columns={'ID':'player_id',\n",
    "                                                                    'Name':'player_name',\n",
    "                                                                    'Age':'age',\n",
    "                                                                    'Nationality':'nationality',\n",
    "                                                                    'Overall':'overall',\n",
    "                                                                    'Club':'club','pv':'player_value',\n",
    "                                                                    'w':'wage','rc':'relase_clause',\n",
    "                                                                    'Photo':'photo','Club_Logo':'club_logo',\n",
    "                                                                    'Aggression':'aggression'})"
   ]
  },
  {
   "cell_type": "code",
   "execution_count": 5,
   "metadata": {},
   "outputs": [
    {
     "data": {
      "text/html": [
       "<div>\n",
       "<style scoped>\n",
       "    .dataframe tbody tr th:only-of-type {\n",
       "        vertical-align: middle;\n",
       "    }\n",
       "\n",
       "    .dataframe tbody tr th {\n",
       "        vertical-align: top;\n",
       "    }\n",
       "\n",
       "    .dataframe thead th {\n",
       "        text-align: right;\n",
       "    }\n",
       "</style>\n",
       "<table border=\"1\" class=\"dataframe\">\n",
       "  <thead>\n",
       "    <tr style=\"text-align: right;\">\n",
       "      <th></th>\n",
       "      <th>ID</th>\n",
       "      <th>Name</th>\n",
       "      <th>Age</th>\n",
       "      <th>Nationality</th>\n",
       "      <th>Overall</th>\n",
       "      <th>Club</th>\n",
       "      <th>Value</th>\n",
       "      <th>Wage</th>\n",
       "      <th>Release_Clause</th>\n",
       "      <th>Photo</th>\n",
       "      <th>Club_Logo</th>\n",
       "      <th>Aggression</th>\n",
       "    </tr>\n",
       "  </thead>\n",
       "  <tbody>\n",
       "    <tr>\n",
       "      <th>0</th>\n",
       "      <td>158023</td>\n",
       "      <td>L. Messi</td>\n",
       "      <td>31</td>\n",
       "      <td>Argentina</td>\n",
       "      <td>94</td>\n",
       "      <td>FC Barcelona</td>\n",
       "      <td>€110.5M</td>\n",
       "      <td>€565K</td>\n",
       "      <td>€226.5M</td>\n",
       "      <td>https://cdn.sofifa.org/players/4/19/158023.png</td>\n",
       "      <td>https://cdn.sofifa.org/teams/2/light/241.png</td>\n",
       "      <td>48</td>\n",
       "    </tr>\n",
       "    <tr>\n",
       "      <th>1</th>\n",
       "      <td>20801</td>\n",
       "      <td>Cristiano Ronaldo</td>\n",
       "      <td>33</td>\n",
       "      <td>Portugal</td>\n",
       "      <td>94</td>\n",
       "      <td>Juventus</td>\n",
       "      <td>€77M</td>\n",
       "      <td>€405K</td>\n",
       "      <td>€127.1M</td>\n",
       "      <td>https://cdn.sofifa.org/players/4/19/20801.png</td>\n",
       "      <td>https://cdn.sofifa.org/teams/2/light/45.png</td>\n",
       "      <td>63</td>\n",
       "    </tr>\n",
       "    <tr>\n",
       "      <th>2</th>\n",
       "      <td>190871</td>\n",
       "      <td>Neymar Jr</td>\n",
       "      <td>26</td>\n",
       "      <td>Brazil</td>\n",
       "      <td>92</td>\n",
       "      <td>Paris Saint-Germain</td>\n",
       "      <td>€118.5M</td>\n",
       "      <td>€290K</td>\n",
       "      <td>€228.1M</td>\n",
       "      <td>https://cdn.sofifa.org/players/4/19/190871.png</td>\n",
       "      <td>https://cdn.sofifa.org/teams/2/light/73.png</td>\n",
       "      <td>56</td>\n",
       "    </tr>\n",
       "    <tr>\n",
       "      <th>3</th>\n",
       "      <td>193080</td>\n",
       "      <td>De Gea</td>\n",
       "      <td>27</td>\n",
       "      <td>Spain</td>\n",
       "      <td>91</td>\n",
       "      <td>Manchester United</td>\n",
       "      <td>€72M</td>\n",
       "      <td>€260K</td>\n",
       "      <td>€138.6M</td>\n",
       "      <td>https://cdn.sofifa.org/players/4/19/193080.png</td>\n",
       "      <td>https://cdn.sofifa.org/teams/2/light/11.png</td>\n",
       "      <td>38</td>\n",
       "    </tr>\n",
       "    <tr>\n",
       "      <th>4</th>\n",
       "      <td>192985</td>\n",
       "      <td>K. De Bruyne</td>\n",
       "      <td>27</td>\n",
       "      <td>Belgium</td>\n",
       "      <td>91</td>\n",
       "      <td>Manchester City</td>\n",
       "      <td>€102M</td>\n",
       "      <td>€355K</td>\n",
       "      <td>€196.4M</td>\n",
       "      <td>https://cdn.sofifa.org/players/4/19/192985.png</td>\n",
       "      <td>https://cdn.sofifa.org/teams/2/light/10.png</td>\n",
       "      <td>76</td>\n",
       "    </tr>\n",
       "  </tbody>\n",
       "</table>\n",
       "</div>"
      ],
      "text/plain": [
       "       ID               Name  Age Nationality  Overall                 Club  \\\n",
       "0  158023           L. Messi   31   Argentina       94         FC Barcelona   \n",
       "1   20801  Cristiano Ronaldo   33    Portugal       94             Juventus   \n",
       "2  190871          Neymar Jr   26      Brazil       92  Paris Saint-Germain   \n",
       "3  193080             De Gea   27       Spain       91    Manchester United   \n",
       "4  192985       K. De Bruyne   27     Belgium       91      Manchester City   \n",
       "\n",
       "     Value   Wage Release_Clause  \\\n",
       "0  €110.5M  €565K        €226.5M   \n",
       "1     €77M  €405K        €127.1M   \n",
       "2  €118.5M  €290K        €228.1M   \n",
       "3     €72M  €260K        €138.6M   \n",
       "4    €102M  €355K        €196.4M   \n",
       "\n",
       "                                            Photo  \\\n",
       "0  https://cdn.sofifa.org/players/4/19/158023.png   \n",
       "1   https://cdn.sofifa.org/players/4/19/20801.png   \n",
       "2  https://cdn.sofifa.org/players/4/19/190871.png   \n",
       "3  https://cdn.sofifa.org/players/4/19/193080.png   \n",
       "4  https://cdn.sofifa.org/players/4/19/192985.png   \n",
       "\n",
       "                                      Club_Logo  Aggression  \n",
       "0  https://cdn.sofifa.org/teams/2/light/241.png          48  \n",
       "1   https://cdn.sofifa.org/teams/2/light/45.png          63  \n",
       "2   https://cdn.sofifa.org/teams/2/light/73.png          56  \n",
       "3   https://cdn.sofifa.org/teams/2/light/11.png          38  \n",
       "4   https://cdn.sofifa.org/teams/2/light/10.png          76  "
      ]
     },
     "execution_count": 5,
     "metadata": {},
     "output_type": "execute_result"
    }
   ],
   "source": [
    "datosFifa_transformed_df.head()"
   ]
  },
  {
   "cell_type": "code",
   "execution_count": 6,
   "metadata": {},
   "outputs": [
    {
     "name": "stdout",
     "output_type": "stream",
     "text": [
      "<class 'pandas.core.frame.DataFrame'>\n",
      "RangeIndex: 16643 entries, 0 to 16642\n",
      "Data columns (total 12 columns):\n",
      "player_id        16643 non-null int64\n",
      "player_name      16643 non-null object\n",
      "age              16643 non-null int64\n",
      "nationality      16643 non-null object\n",
      "overall          16643 non-null int64\n",
      "club             16643 non-null object\n",
      "player_value     16643 non-null float64\n",
      "wage             16643 non-null float64\n",
      "relase_clause    16643 non-null float64\n",
      "photo            16643 non-null object\n",
      "club_logo        16643 non-null object\n",
      "aggression       16643 non-null int64\n",
      "dtypes: float64(3), int64(4), object(5)\n",
      "memory usage: 1.5+ MB\n"
     ]
    }
   ],
   "source": [
    "datosFifa_transformed_df.info()"
   ]
  },
  {
   "cell_type": "markdown",
   "metadata": {},
   "source": [
    "## Classes"
   ]
  },
  {
   "cell_type": "code",
   "execution_count": 7,
   "metadata": {},
   "outputs": [],
   "source": [
    "Base = declarative_base()"
   ]
  },
  {
   "cell_type": "code",
   "execution_count": 8,
   "metadata": {},
   "outputs": [],
   "source": [
    "class Fifa(Base):\n",
    "    __tablename__ = 'fifa'\n",
    "    player_id = Column(Integer, primary_key=True)\n",
    "    player_name = Column(String(255))\n",
    "    age = Column(Integer)\n",
    "    nationality = Column(String(255))\n",
    "    overall = Column(Integer)\n",
    "    club = Column(String(255))\n",
    "    player_value = Column(Float)\n",
    "    wage = Column(Float)\n",
    "    relase_clause = Column(Float)\n",
    "    photo = Column(Text)\n",
    "    club_logo = Column(Text)\n",
    "    aggression = Column(Float)\n"
   ]
  },
  {
   "cell_type": "markdown",
   "metadata": {},
   "source": [
    "### Database connection"
   ]
  },
  {
   "cell_type": "code",
   "execution_count": 9,
   "metadata": {},
   "outputs": [],
   "source": [
    "password = '{your password}'\n",
    "rds_connection_string = f'root:{password}@localhost:3306/fifadb?charset=utf8mb4'"
   ]
  },
  {
   "cell_type": "code",
   "execution_count": 10,
   "metadata": {},
   "outputs": [],
   "source": [
    "engine = create_engine(f'mysql://{rds_connection_string}')\n",
    "conn = engine.connect()"
   ]
  },
  {
   "cell_type": "code",
   "execution_count": 11,
   "metadata": {},
   "outputs": [],
   "source": [
    "# Create a \"Metadata\" Layer That Abstracts our SQL Database\n",
    "# ----------------------------------\n",
    "# Create (if not already in existence) the tables associated with our classes.\n",
    "Base.metadata.create_all(engine)\n",
    "\n",
    "# Use this to clear out the db\n",
    "# ----------------------------------\n",
    "# Base.metadata.drop_all(engine)\n",
    "session = Session(bind=engine)"
   ]
  },
  {
   "cell_type": "markdown",
   "metadata": {},
   "source": [
    "## Ad data"
   ]
  },
  {
   "cell_type": "code",
   "execution_count": 12,
   "metadata": {},
   "outputs": [],
   "source": [
    "df = datosFifa_transformed_df"
   ]
  },
  {
   "cell_type": "code",
   "execution_count": 14,
   "metadata": {},
   "outputs": [],
   "source": [
    "for index, row in df.iterrows():\n",
    "    player = Fifa(player_id=row['player_id'], player_name=row['player_name'], age=row['age'], \n",
    "                  nationality=row['nationality'], overall=row['overall'],club=row['club'], \n",
    "                  player_value=row['player_value'], wage=row['wage'], relase_clause=row['relase_clause'],\n",
    "                  photo=row['photo'], club_logo=row['club_logo'],\n",
    "                  aggression=row['aggression'])\n",
    "    session.add(player)"
   ]
  },
  {
   "cell_type": "code",
   "execution_count": 15,
   "metadata": {},
   "outputs": [],
   "source": [
    "session.commit()"
   ]
  }
 ],
 "metadata": {
  "kernelspec": {
   "display_name": "Python 3",
   "language": "python",
   "name": "python3"
  },
  "language_info": {
   "codemirror_mode": {
    "name": "ipython",
    "version": 3
   },
   "file_extension": ".py",
   "mimetype": "text/x-python",
   "name": "python",
   "nbconvert_exporter": "python",
   "pygments_lexer": "ipython3",
   "version": "3.7.1"
  }
 },
 "nbformat": 4,
 "nbformat_minor": 2
}
